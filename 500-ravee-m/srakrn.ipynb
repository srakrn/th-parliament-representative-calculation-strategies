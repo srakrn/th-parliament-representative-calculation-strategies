{
 "metadata": {
  "language_info": {
   "codemirror_mode": {
    "name": "ipython",
    "version": 3
   },
   "file_extension": ".py",
   "mimetype": "text/x-python",
   "name": "python",
   "nbconvert_exporter": "python",
   "pygments_lexer": "ipython3",
   "version": "3.9.7-final"
  },
  "orig_nbformat": 2,
  "kernelspec": {
   "name": "python3",
   "display_name": "Python 3 (ipykernel)",
   "language": "python"
  }
 },
 "nbformat": 4,
 "nbformat_minor": 2,
 "cells": [
  {
   "cell_type": "code",
   "execution_count": 1,
   "metadata": {},
   "outputs": [],
   "source": [
    "import pandas as pd\n",
    "import numpy as np\n",
    "\n",
    "from math import floor, ceil\n",
    "\n",
    "pd.options.mode.chained_assignment = None  # default='warn'"
   ]
  },
  {
   "cell_type": "code",
   "execution_count": 2,
   "metadata": {},
   "outputs": [],
   "source": [
    "N_TOTAL_SEATS = 500"
   ]
  },
  {
   "cell_type": "code",
   "execution_count": 3,
   "metadata": {},
   "outputs": [
    {
     "output_type": "execute_result",
     "data": {
      "text/plain": [
       "                       n_votes  n_regional_mp\n",
       "party                                        \n",
       "เพื่อไทย               7881006            136\n",
       "พลังประชารัฐ           8441274             97\n",
       "อนาคตใหม่              6330617             31\n",
       "ประชาธิปัตย์           3959358             33\n",
       "ภูมิใจไทย              3734459             39\n",
       "เสรีรวมไทย              824284              0\n",
       "ชาติไทยพัฒนา            783689              6\n",
       "ประชาชาติ               481490              6\n",
       "เศรษฐกิจใหม่            486273              0\n",
       "เพื่อชาติ               421412              0\n",
       "รวมพลังประชาชาติไทย     415585              1\n",
       "ชาติพัฒนา               244770              1\n",
       "พลังท้องถิ่นไท          214189              0\n",
       "รักษ์ผืนป่าประเทศไทย    134816              0\n",
       "พลังปวงชนไทย             80186              0\n",
       "พลังชาติไทย              73421              0\n",
       "ประชาภิวัฒน์             69431              0\n",
       "พลังไทยรักไทย            60434              0\n",
       "ไทยศรีวิไลย์             60354              0\n",
       "ครูไทยเพื่อประชาชน       56633              0\n",
       "ประชานิยม​               56264              0\n",
       "ประชาธรรมไทย​            48037              0\n",
       "ประชาชนปฏิรูป​           45420              0\n",
       "พลเมืองไทย​              44961              0\n",
       "ประชาธิปไตยใหม่​         39260              0\n",
       "พลังธรรมใหม่​            35099              0\n",
       "NaN                      57344              0\n",
       "NaN                   35561556            350"
      ],
      "text/html": "<div>\n<style scoped>\n    .dataframe tbody tr th:only-of-type {\n        vertical-align: middle;\n    }\n\n    .dataframe tbody tr th {\n        vertical-align: top;\n    }\n\n    .dataframe thead th {\n        text-align: right;\n    }\n</style>\n<table border=\"1\" class=\"dataframe\">\n  <thead>\n    <tr style=\"text-align: right;\">\n      <th></th>\n      <th>n_votes</th>\n      <th>n_regional_mp</th>\n    </tr>\n    <tr>\n      <th>party</th>\n      <th></th>\n      <th></th>\n    </tr>\n  </thead>\n  <tbody>\n    <tr>\n      <th>เพื่อไทย</th>\n      <td>7881006</td>\n      <td>136</td>\n    </tr>\n    <tr>\n      <th>พลังประชารัฐ</th>\n      <td>8441274</td>\n      <td>97</td>\n    </tr>\n    <tr>\n      <th>อนาคตใหม่</th>\n      <td>6330617</td>\n      <td>31</td>\n    </tr>\n    <tr>\n      <th>ประชาธิปัตย์</th>\n      <td>3959358</td>\n      <td>33</td>\n    </tr>\n    <tr>\n      <th>ภูมิใจไทย</th>\n      <td>3734459</td>\n      <td>39</td>\n    </tr>\n    <tr>\n      <th>เสรีรวมไทย</th>\n      <td>824284</td>\n      <td>0</td>\n    </tr>\n    <tr>\n      <th>ชาติไทยพัฒนา</th>\n      <td>783689</td>\n      <td>6</td>\n    </tr>\n    <tr>\n      <th>ประชาชาติ</th>\n      <td>481490</td>\n      <td>6</td>\n    </tr>\n    <tr>\n      <th>เศรษฐกิจใหม่</th>\n      <td>486273</td>\n      <td>0</td>\n    </tr>\n    <tr>\n      <th>เพื่อชาติ</th>\n      <td>421412</td>\n      <td>0</td>\n    </tr>\n    <tr>\n      <th>รวมพลังประชาชาติไทย</th>\n      <td>415585</td>\n      <td>1</td>\n    </tr>\n    <tr>\n      <th>ชาติพัฒนา</th>\n      <td>244770</td>\n      <td>1</td>\n    </tr>\n    <tr>\n      <th>พลังท้องถิ่นไท</th>\n      <td>214189</td>\n      <td>0</td>\n    </tr>\n    <tr>\n      <th>รักษ์ผืนป่าประเทศไทย</th>\n      <td>134816</td>\n      <td>0</td>\n    </tr>\n    <tr>\n      <th>พลังปวงชนไทย</th>\n      <td>80186</td>\n      <td>0</td>\n    </tr>\n    <tr>\n      <th>พลังชาติไทย</th>\n      <td>73421</td>\n      <td>0</td>\n    </tr>\n    <tr>\n      <th>ประชาภิวัฒน์</th>\n      <td>69431</td>\n      <td>0</td>\n    </tr>\n    <tr>\n      <th>พลังไทยรักไทย</th>\n      <td>60434</td>\n      <td>0</td>\n    </tr>\n    <tr>\n      <th>ไทยศรีวิไลย์</th>\n      <td>60354</td>\n      <td>0</td>\n    </tr>\n    <tr>\n      <th>ครูไทยเพื่อประชาชน</th>\n      <td>56633</td>\n      <td>0</td>\n    </tr>\n    <tr>\n      <th>ประชานิยม​</th>\n      <td>56264</td>\n      <td>0</td>\n    </tr>\n    <tr>\n      <th>ประชาธรรมไทย​</th>\n      <td>48037</td>\n      <td>0</td>\n    </tr>\n    <tr>\n      <th>ประชาชนปฏิรูป​</th>\n      <td>45420</td>\n      <td>0</td>\n    </tr>\n    <tr>\n      <th>พลเมืองไทย​</th>\n      <td>44961</td>\n      <td>0</td>\n    </tr>\n    <tr>\n      <th>ประชาธิปไตยใหม่​</th>\n      <td>39260</td>\n      <td>0</td>\n    </tr>\n    <tr>\n      <th>พลังธรรมใหม่​</th>\n      <td>35099</td>\n      <td>0</td>\n    </tr>\n    <tr>\n      <th>NaN</th>\n      <td>57344</td>\n      <td>0</td>\n    </tr>\n    <tr>\n      <th>NaN</th>\n      <td>35561556</td>\n      <td>350</td>\n    </tr>\n  </tbody>\n</table>\n</div>"
     },
     "metadata": {},
     "execution_count": 3
    }
   ],
   "source": [
    "df = pd.read_csv('../inputs/2019-general-election.csv', index_col=\"party\")\n",
    "df"
   ]
  },
  {
   "cell_type": "code",
   "execution_count": 4,
   "metadata": {},
   "outputs": [
    {
     "output_type": "error",
     "ename": "KeyError",
     "evalue": "'n_constituency_seats'",
     "traceback": [
      "\u001b[0;31m---------------------------------------------------------------------------\u001b[0m",
      "\u001b[0;31mKeyError\u001b[0m                                  Traceback (most recent call last)",
      "File \u001b[0;32m~/.pyenv/versions/3.9.7/lib/python3.9/site-packages/pandas/core/indexes/base.py:3621\u001b[0m, in \u001b[0;36mIndex.get_loc\u001b[0;34m(self, key, method, tolerance)\u001b[0m\n\u001b[1;32m   3620\u001b[0m \u001b[38;5;28;01mtry\u001b[39;00m:\n\u001b[0;32m-> 3621\u001b[0m     \u001b[38;5;28;01mreturn\u001b[39;00m \u001b[38;5;28;43mself\u001b[39;49m\u001b[38;5;241;43m.\u001b[39;49m\u001b[43m_engine\u001b[49m\u001b[38;5;241;43m.\u001b[39;49m\u001b[43mget_loc\u001b[49m\u001b[43m(\u001b[49m\u001b[43mcasted_key\u001b[49m\u001b[43m)\u001b[49m\n\u001b[1;32m   3622\u001b[0m \u001b[38;5;28;01mexcept\u001b[39;00m \u001b[38;5;167;01mKeyError\u001b[39;00m \u001b[38;5;28;01mas\u001b[39;00m err:\n",
      "File \u001b[0;32m~/.pyenv/versions/3.9.7/lib/python3.9/site-packages/pandas/_libs/index.pyx:136\u001b[0m, in \u001b[0;36mpandas._libs.index.IndexEngine.get_loc\u001b[0;34m()\u001b[0m\n",
      "File \u001b[0;32m~/.pyenv/versions/3.9.7/lib/python3.9/site-packages/pandas/_libs/index.pyx:163\u001b[0m, in \u001b[0;36mpandas._libs.index.IndexEngine.get_loc\u001b[0;34m()\u001b[0m\n",
      "File \u001b[0;32mpandas/_libs/hashtable_class_helper.pxi:5198\u001b[0m, in \u001b[0;36mpandas._libs.hashtable.PyObjectHashTable.get_item\u001b[0;34m()\u001b[0m\n",
      "File \u001b[0;32mpandas/_libs/hashtable_class_helper.pxi:5206\u001b[0m, in \u001b[0;36mpandas._libs.hashtable.PyObjectHashTable.get_item\u001b[0;34m()\u001b[0m\n",
      "\u001b[0;31mKeyError\u001b[0m: 'n_constituency_seats'",
      "\nThe above exception was the direct cause of the following exception:\n",
      "\u001b[0;31mKeyError\u001b[0m                                  Traceback (most recent call last)",
      "Input \u001b[0;32mIn [4]\u001b[0m, in \u001b[0;36m<cell line: 1>\u001b[0;34m()\u001b[0m\n\u001b[0;32m----> 1\u001b[0m N_CONSTITUENCY_SEATS \u001b[38;5;241m=\u001b[39m \u001b[43mdf\u001b[49m\u001b[43m[\u001b[49m\u001b[38;5;124;43m\"\u001b[39;49m\u001b[38;5;124;43mn_constituency_seats\u001b[39;49m\u001b[38;5;124;43m\"\u001b[39;49m\u001b[43m]\u001b[49m\u001b[38;5;241m.\u001b[39msum()\n\u001b[1;32m      2\u001b[0m N_PROPORTION_SEATS \u001b[38;5;241m=\u001b[39m N_TOTAL_SEATS \u001b[38;5;241m-\u001b[39m N_CONSTITUENCY_SEATS\n\u001b[1;32m      4\u001b[0m N_CONSTITUENCY_SEATS, N_PROPORTION_SEATS\n",
      "File \u001b[0;32m~/.pyenv/versions/3.9.7/lib/python3.9/site-packages/pandas/core/frame.py:3505\u001b[0m, in \u001b[0;36mDataFrame.__getitem__\u001b[0;34m(self, key)\u001b[0m\n\u001b[1;32m   3503\u001b[0m \u001b[38;5;28;01mif\u001b[39;00m \u001b[38;5;28mself\u001b[39m\u001b[38;5;241m.\u001b[39mcolumns\u001b[38;5;241m.\u001b[39mnlevels \u001b[38;5;241m>\u001b[39m \u001b[38;5;241m1\u001b[39m:\n\u001b[1;32m   3504\u001b[0m     \u001b[38;5;28;01mreturn\u001b[39;00m \u001b[38;5;28mself\u001b[39m\u001b[38;5;241m.\u001b[39m_getitem_multilevel(key)\n\u001b[0;32m-> 3505\u001b[0m indexer \u001b[38;5;241m=\u001b[39m \u001b[38;5;28;43mself\u001b[39;49m\u001b[38;5;241;43m.\u001b[39;49m\u001b[43mcolumns\u001b[49m\u001b[38;5;241;43m.\u001b[39;49m\u001b[43mget_loc\u001b[49m\u001b[43m(\u001b[49m\u001b[43mkey\u001b[49m\u001b[43m)\u001b[49m\n\u001b[1;32m   3506\u001b[0m \u001b[38;5;28;01mif\u001b[39;00m is_integer(indexer):\n\u001b[1;32m   3507\u001b[0m     indexer \u001b[38;5;241m=\u001b[39m [indexer]\n",
      "File \u001b[0;32m~/.pyenv/versions/3.9.7/lib/python3.9/site-packages/pandas/core/indexes/base.py:3623\u001b[0m, in \u001b[0;36mIndex.get_loc\u001b[0;34m(self, key, method, tolerance)\u001b[0m\n\u001b[1;32m   3621\u001b[0m     \u001b[38;5;28;01mreturn\u001b[39;00m \u001b[38;5;28mself\u001b[39m\u001b[38;5;241m.\u001b[39m_engine\u001b[38;5;241m.\u001b[39mget_loc(casted_key)\n\u001b[1;32m   3622\u001b[0m \u001b[38;5;28;01mexcept\u001b[39;00m \u001b[38;5;167;01mKeyError\u001b[39;00m \u001b[38;5;28;01mas\u001b[39;00m err:\n\u001b[0;32m-> 3623\u001b[0m     \u001b[38;5;28;01mraise\u001b[39;00m \u001b[38;5;167;01mKeyError\u001b[39;00m(key) \u001b[38;5;28;01mfrom\u001b[39;00m \u001b[38;5;21;01merr\u001b[39;00m\n\u001b[1;32m   3624\u001b[0m \u001b[38;5;28;01mexcept\u001b[39;00m \u001b[38;5;167;01mTypeError\u001b[39;00m:\n\u001b[1;32m   3625\u001b[0m     \u001b[38;5;66;03m# If we have a listlike key, _check_indexing_error will raise\u001b[39;00m\n\u001b[1;32m   3626\u001b[0m     \u001b[38;5;66;03m#  InvalidIndexError. Otherwise we fall through and re-raise\u001b[39;00m\n\u001b[1;32m   3627\u001b[0m     \u001b[38;5;66;03m#  the TypeError.\u001b[39;00m\n\u001b[1;32m   3628\u001b[0m     \u001b[38;5;28mself\u001b[39m\u001b[38;5;241m.\u001b[39m_check_indexing_error(key)\n",
      "\u001b[0;31mKeyError\u001b[0m: 'n_constituency_seats'"
     ]
    }
   ],
   "source": [
    "N_CONSTITUENCY_SEATS = df[\"n_constituency_seats\"].sum()\n",
    "N_PROPORTION_SEATS = N_TOTAL_SEATS - N_CONSTITUENCY_SEATS\n",
    "\n",
    "N_CONSTITUENCY_SEATS, N_PROPORTION_SEATS"
   ]
  },
  {
   "cell_type": "code",
   "execution_count": null,
   "metadata": {},
   "outputs": [],
   "source": [
    "# มาตรา ๑๒๘ เมื่อคณะกรรมการได้รับรายงานผลรวมคะแนนแบบบัญชีรายชื่อจาก\n",
    "# ผู้อำนวยการการเลือกตั้งประจำจังหวัดแล้ว ให้ดำเนินการคำนวณหาจำนวนสมาชิกสภาผู้แทนราษฎร\n",
    "# ที่พรรคการเมืองจะพึงมีได้\n",
    "# และให้ดำเนินการคำนวณเพื่อหาผู้ที่ได้รับเลือกตั้งเป็นสมาชิกสภาผู้แทนราษฎร\n",
    "# แบบบัญชีรายชื่อ ดังต่อไปนี้โดยในกรณีที่มีเศษให้ใช้ทศนิยมสี่ตำแหน่ง\n",
    "\n",
    "def use_four_decimal_place(n): return round(n, 4)\n",
    "# def use_four_decimal_place(n): return n - (n % 0.0001)"
   ]
  },
  {
   "cell_type": "code",
   "execution_count": null,
   "metadata": {},
   "outputs": [],
   "source": [
    "# (๑) ให้รวมผลคะแนนทั้งหมดที่ทุกพรรคการเมืองได้รับจากการเลือกตั้งแบบบัญชีรายชื่อ\n",
    "# ทั้งประเทศ\n",
    "\n",
    "total_votes = df[\"n_votes\"].sum()\n",
    "total_votes"
   ]
  },
  {
   "cell_type": "code",
   "execution_count": null,
   "metadata": {},
   "outputs": [],
   "source": [
    "# (๒) ให้นำคะแนนรวมจาก (๑) หารด้วยหนึ่งห้าร้อยอันเป็นจำนวนสมาชิกทั้งหมด\n",
    "# ของสภาผู้แทนราษฎร ผลลัพธ์ที่ได้ให้ถือเป็นคะแนนเฉลี่ยต่อสมาชิกสภาผู้แทนราษฎรแบบบัญชีรายชื่อ\n",
    "# พึงมีหนึ่งคน\n",
    "score_required_per_rep = total_votes / 500\n",
    "score_required_per_rep"
   ]
  },
  {
   "source": [
    "# Filter non-party records\n",
    "\n",
    "df = df[df[\"is_party\"] == 1]\n",
    "df"
   ],
   "cell_type": "code",
   "metadata": {},
   "execution_count": null,
   "outputs": []
  },
  {
   "cell_type": "code",
   "execution_count": null,
   "metadata": {},
   "outputs": [],
   "source": [
    "# (๓) นำผลลัพธ์ตาม (๒) ไปหารจำนวน คะแนนรวมทั้งประเทศที่ได้รับจากการเลือกตั้ง\n",
    "# แบบบัญชีรายชื่อของแต่ละพรรค ผลลัพธ์ที่ได้ให้ถือเป็นจำนวนสมาชิกสภาผู้แทนราษฎร\n",
    "# ที่พรรคการเมืองนั้นจะพึงมีได้เบื้องต้น และเมื่อได้คำนวณตาม (๖) (๗) หรือ (๘) ถ้ามีแล้ว \n",
    "# จึงให้ถือว่าเป็นจำนวนสมาชิกสภาผู้แทนราษฎรที่พรรคการเมืองนั้นจะพึงมีได้\n",
    "\n",
    "# `step_3_base` will be \"จำนวนสมาชิกสภาผู้แทนราษฎรที่พรรคการเมืองนั้นจะพึงมีได้เบื้องต้น\"\n",
    "\n",
    "df['step_3'] = use_four_decimal_place(df[\"n_votes\"] / score_required_per_rep)\n",
    "df"
   ]
  },
  {
   "cell_type": "code",
   "execution_count": null,
   "metadata": {},
   "outputs": [],
   "source": [
    "# (๔) นำจำนวนสมาชิกสภาผู้แทนราษฎรที่พรรคการเมือง\n",
    "# จะพึงมีได้ตาม (๓) ลบด้วยจำนวนสมาชิกสภาผู้แทนราษฎรแบบแบ่งเขตเลือกตั้ง\n",
    "# ทั้งหมดที่พรรคการเมืองนั้นได้รับเลือกตั้งในทุกเขตเลือกตั้ง\n",
    "# ผลลัพธ์ที่ได้คือจำนวนสมาชิกสภาผู้แทนราษฎรแบบบัญชีรายชื่อพรรคการเมืองนั้นจะได้รับเบื้องต้น\n",
    "\n",
    "df[\"step_4\"] = df[\"step_3\"] - df[\"n_constituency_seats\"]\n",
    "df"
   ]
  },
  {
   "cell_type": "code",
   "execution_count": null,
   "metadata": {},
   "outputs": [],
   "source": [
    "# (๖) ถ้าพรรคการเมืองใดมีผู้ได้รับเลือกตั้งเป็นสมาชิกสภาผู้แทนราษฎรแบบแบ่งเขตเลือกตั้ง\n",
    "# เท่ากับหรือสูงกว่าจำนวนสมาชิกสภาผู้แทนราษฎรที่พรรคการเมืองนั้นจะพึงมีได้ตาม (๓)\n",
    "# ให้พรรคการเมืองนั้นมีสมาชิกสภาผู้แทนราษฎรตามจำนวนที่ได้รับการเลือกตั้งแบบแบ่งเขตเลือกตั้ง \n",
    "# และไม่มีสิทธิได้รับการจัดสรรสมาชิกสภาผู้แทนราษฎรแบบบัญชีรายชื่อ และให้นำจำนวนสมาชิก\n",
    "# สภาผู้แทนราษฎรแบบบัญชีรายชื่อทั้งหมดไปจัดสรรให้แก่พรรคการเมืองที่มีจำนวนสมาชิก\n",
    "# สภาผู้แทนราษฎรแบบแบ่งเขตเลือกตั้งต่ำกว่าจำนวนสมาชิกสภาผู้แทนราษฎรที่พรรคการเมืองนั้นจะพึงมีได้\n",
    "# ตาม (๓) ตามอัตราส่วน แต่ต้องไม่มีผลให้พรรคการเมืองใดดังกล่าวมีสมาชิกสภาผู้แทนราษฎร\n",
    "# เกินจำนวนที่จะพึงมีได้ตาม (๓)\n",
    "\n",
    "df[\"step_6_eligible_for_proportion\"] = df[\"step_4\"] > 0\n",
    "df"
   ]
  },
  {
   "cell_type": "code",
   "execution_count": null,
   "metadata": {},
   "outputs": [],
   "source": [
    "# (๗) ในกรณีที่คำนวณตาม (๖) แล้ว ปรากฏว่าพรรคการเมืองทุกพรรคได้รับจำนวน\n",
    "# สมาชิกสภาผู้แทนราษฎรแบบบัญชีรายชื่อรวมกันแล้วเกินหนึ่งร้อยคน ให้ดำเนินการคำนวณปรับจำนวน\n",
    "# สมาชิกสภาผู้แทนราษฎรแบบบัญชีรายชื่อใหม่ โดยคำนวณตามอัตราส่วนที่ทุกพรรคจะได้รับการจัดสรร\n",
    "# จำนวนสมาชิกสภาผู้แทนราษฎรแบบบัญชีรายชื่อ ซึ่งเมื่อรวมแล้วไม่เกินหนึ่งร้อยคน โดยให้นำจำนวน\n",
    "# สมาชิกสภาผู้แทนราษฎรแบบบัญชีรายชื่อที่แต่ละพรรคจะได้รับคูณด้วยหนึ่งร้อย หารด้วยผลบวกของ\n",
    "# หนึ่งร้อยกับจำนวนสมาชิกสภาผู้แทนราษฎรแบบบัญชีรายชื่อที่เกินจำนวนหนึ่งร้อย และให้นำ (๕) มาใช้\n",
    "# ในการคำนวณด้วยโดยอนุโลม\n",
    "\n",
    "df_elig_proportion = df[df[\"step_6_eligible_for_proportion\"]]\n",
    "df_elig_proportion[\"step_5_scaled_porportion\"] = df_elig_proportion[\"step_4\"] / df_elig_proportion[\"step_4\"].sum() * N_PROPORTION_SEATS\n",
    "df_elig_proportion"
   ]
  },
  {
   "cell_type": "code",
   "execution_count": null,
   "metadata": {},
   "outputs": [],
   "source": [
    "# (๕) ภายใต้บังคับ (๖) ให้จัดสรรจำนวนสมาชิกสภาผู้แทนราษฎร\n",
    "# แบบบัญชีรายชื่อที่พรรคการเมืองจะได้รับให้ครบหนึ่งร้อยคน โดยจัดสรรให้พรรคการเมืองตามผลลัพธ์\n",
    "# ตาม (๔) เป็นจำนวนเต็มก่อน...\n",
    "\n",
    "df_elig_proportion[\"step_5_full_seats\"] = df_elig_proportion[\"step_5_scaled_porportion\"].apply(floor)\n",
    "df_elig_proportion[\"step_5_remainder\"] = df_elig_proportion[\"step_5_scaled_porportion\"].apply(lambda n: n % 1)\n",
    "df_elig_proportion"
   ]
  },
  {
   "cell_type": "code",
   "execution_count": null,
   "metadata": {},
   "outputs": [],
   "source": [
    "# (cont from 5) ...หากยังไม่ครบหนึ่งร้อยคน \n",
    "# ให้พรรคการเมืองที่มีเศษจากการคำนวณมากที่สุดได้รับการจัดสรรจำนวน\n",
    "# สมาชิกสภาผู้แทนราษฎรแบบบัญชีรายชื่อเพิ่มอีกหนึ่งคนตามลำดับจนครบจำนวนหนึ่งร้อยคน ในกรณีที่\n",
    "# มีเศษเท่ากันให้ดำเนินการตาม (๗)\n",
    "\n",
    "assigned_proportion_seats = df_elig_proportion[\"step_5_full_seats\"].sum()\n",
    "n_senators_to_assign_by_remainder = N_PROPORTION_SEATS - assigned_proportion_seats\n",
    "\n",
    "n_senators_to_assign_by_remainder"
   ]
  },
  {
   "cell_type": "code",
   "execution_count": null,
   "metadata": {},
   "outputs": [],
   "source": [
    "parties_to_get_reps_from_remainder = df_elig_proportion.sort_values(\"step_5_remainder\", ascending=False).head(n_senators_to_assign_by_remainder).index\n",
    "\n",
    "parties_to_get_reps_from_remainder"
   ]
  },
  {
   "cell_type": "code",
   "execution_count": null,
   "metadata": {},
   "outputs": [],
   "source": [
    "df_elig_proportion[\"step_5_remainder_seats\"] = 0\n",
    "df_elig_proportion.loc[df_elig_proportion.index.isin(parties_to_get_reps_from_remainder), \"step_5_remainder_seats\"] = 1\n",
    "df_elig_proportion"
   ]
  },
  {
   "cell_type": "code",
   "execution_count": null,
   "metadata": {},
   "outputs": [],
   "source": [
    "df_elig_proportion[\"step_5_proportional_seats\"] = df_elig_proportion[\"step_5_full_seats\"] + df_elig_proportion[\"step_5_remainder_seats\"]\n",
    "\n",
    "df_elig_proportion"
   ]
  },
  {
   "cell_type": "code",
   "execution_count": null,
   "metadata": {},
   "outputs": [],
   "source": [
    "df = df.join(df_elig_proportion.loc[:, [\"step_5_proportional_seats\"]]).fillna(0)\n",
    "df[\"total_seats\"] = df[\"n_constituency_seats\"] + df[\"step_5_proportional_seats\"]"
   ]
  },
  {
   "cell_type": "code",
   "execution_count": 22,
   "metadata": {},
   "outputs": [
    {
     "output_type": "execute_result",
     "data": {
      "text/plain": [
       "                      n_votes  total_seats\n",
       "party                                     \n",
       "เพื่อไทย              7881006        136.0\n",
       "พลังประชารัฐ          8441274        117.0\n",
       "อนาคตใหม่             6330617         82.0\n",
       "ประชาธิปัตย์          3959358         53.0\n",
       "ภูมิใจไทย             3734459         51.0\n",
       "เสรีรวมไทย             824284         10.0\n",
       "ชาติไทยพัฒนา           783689         10.0\n",
       "ประชาชาติ              481490          7.0\n",
       "เศรษฐกิจใหม่           486273          6.0\n",
       "เพื่อชาติ              421412          5.0\n",
       "รวมพลังประชาชาติไทย    415585          5.0\n",
       "ชาติพัฒนา              244770          3.0\n",
       "พลังท้องถิ่นไท         214189          3.0\n",
       "รักษ์ผืนป่าประเทศไทย   134816          2.0\n",
       "พลังปวงชนไทย            80186          1.0\n",
       "พลังชาติไทย             73421          1.0\n",
       "ประชาภิวัฒน์            69431          1.0\n",
       "พลังไทยรักไทย           60434          1.0\n",
       "ไทยศรีวิไลย์            60354          1.0\n",
       "ครูไทยเพื่อประชาชน      56633          1.0\n",
       "ประชานิยม​              56264          1.0\n",
       "ประชาธรรมไทย​           48037          1.0\n",
       "ประชาชนปฏิรูป​          45420          1.0\n",
       "พลเมืองไทย​             44961          1.0\n",
       "ประชาธิปไตยใหม่​        39260          0.0\n",
       "พลังธรรมใหม่​           35099          0.0"
      ],
      "text/html": "<div>\n<style scoped>\n    .dataframe tbody tr th:only-of-type {\n        vertical-align: middle;\n    }\n\n    .dataframe tbody tr th {\n        vertical-align: top;\n    }\n\n    .dataframe thead th {\n        text-align: right;\n    }\n</style>\n<table border=\"1\" class=\"dataframe\">\n  <thead>\n    <tr style=\"text-align: right;\">\n      <th></th>\n      <th>n_votes</th>\n      <th>total_seats</th>\n    </tr>\n    <tr>\n      <th>party</th>\n      <th></th>\n      <th></th>\n    </tr>\n  </thead>\n  <tbody>\n    <tr>\n      <th>เพื่อไทย</th>\n      <td>7881006</td>\n      <td>136.0</td>\n    </tr>\n    <tr>\n      <th>พลังประชารัฐ</th>\n      <td>8441274</td>\n      <td>117.0</td>\n    </tr>\n    <tr>\n      <th>อนาคตใหม่</th>\n      <td>6330617</td>\n      <td>82.0</td>\n    </tr>\n    <tr>\n      <th>ประชาธิปัตย์</th>\n      <td>3959358</td>\n      <td>53.0</td>\n    </tr>\n    <tr>\n      <th>ภูมิใจไทย</th>\n      <td>3734459</td>\n      <td>51.0</td>\n    </tr>\n    <tr>\n      <th>เสรีรวมไทย</th>\n      <td>824284</td>\n      <td>10.0</td>\n    </tr>\n    <tr>\n      <th>ชาติไทยพัฒนา</th>\n      <td>783689</td>\n      <td>10.0</td>\n    </tr>\n    <tr>\n      <th>ประชาชาติ</th>\n      <td>481490</td>\n      <td>7.0</td>\n    </tr>\n    <tr>\n      <th>เศรษฐกิจใหม่</th>\n      <td>486273</td>\n      <td>6.0</td>\n    </tr>\n    <tr>\n      <th>เพื่อชาติ</th>\n      <td>421412</td>\n      <td>5.0</td>\n    </tr>\n    <tr>\n      <th>รวมพลังประชาชาติไทย</th>\n      <td>415585</td>\n      <td>5.0</td>\n    </tr>\n    <tr>\n      <th>ชาติพัฒนา</th>\n      <td>244770</td>\n      <td>3.0</td>\n    </tr>\n    <tr>\n      <th>พลังท้องถิ่นไท</th>\n      <td>214189</td>\n      <td>3.0</td>\n    </tr>\n    <tr>\n      <th>รักษ์ผืนป่าประเทศไทย</th>\n      <td>134816</td>\n      <td>2.0</td>\n    </tr>\n    <tr>\n      <th>พลังปวงชนไทย</th>\n      <td>80186</td>\n      <td>1.0</td>\n    </tr>\n    <tr>\n      <th>พลังชาติไทย</th>\n      <td>73421</td>\n      <td>1.0</td>\n    </tr>\n    <tr>\n      <th>ประชาภิวัฒน์</th>\n      <td>69431</td>\n      <td>1.0</td>\n    </tr>\n    <tr>\n      <th>พลังไทยรักไทย</th>\n      <td>60434</td>\n      <td>1.0</td>\n    </tr>\n    <tr>\n      <th>ไทยศรีวิไลย์</th>\n      <td>60354</td>\n      <td>1.0</td>\n    </tr>\n    <tr>\n      <th>ครูไทยเพื่อประชาชน</th>\n      <td>56633</td>\n      <td>1.0</td>\n    </tr>\n    <tr>\n      <th>ประชานิยม​</th>\n      <td>56264</td>\n      <td>1.0</td>\n    </tr>\n    <tr>\n      <th>ประชาธรรมไทย​</th>\n      <td>48037</td>\n      <td>1.0</td>\n    </tr>\n    <tr>\n      <th>ประชาชนปฏิรูป​</th>\n      <td>45420</td>\n      <td>1.0</td>\n    </tr>\n    <tr>\n      <th>พลเมืองไทย​</th>\n      <td>44961</td>\n      <td>1.0</td>\n    </tr>\n    <tr>\n      <th>ประชาธิปไตยใหม่​</th>\n      <td>39260</td>\n      <td>0.0</td>\n    </tr>\n    <tr>\n      <th>พลังธรรมใหม่​</th>\n      <td>35099</td>\n      <td>0.0</td>\n    </tr>\n  </tbody>\n</table>\n</div>"
     },
     "metadata": {},
     "execution_count": 22
    }
   ],
   "source": [
    "df[[\"n_votes\", \"total_seats\"]]"
   ]
  }
 ]
}