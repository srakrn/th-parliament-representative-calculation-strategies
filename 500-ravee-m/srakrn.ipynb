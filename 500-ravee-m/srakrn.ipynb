{
 "metadata": {
  "language_info": {
   "codemirror_mode": {
    "name": "ipython",
    "version": 3
   },
   "file_extension": ".py",
   "mimetype": "text/x-python",
   "name": "python",
   "nbconvert_exporter": "python",
   "pygments_lexer": "ipython3",
   "version": "3.9.7-final"
  },
  "orig_nbformat": 2,
  "kernelspec": {
   "name": "python3",
   "display_name": "Python 3 (ipykernel)",
   "language": "python"
  }
 },
 "nbformat": 4,
 "nbformat_minor": 2,
 "cells": [
  {
   "cell_type": "code",
   "execution_count": 1,
   "metadata": {},
   "outputs": [],
   "source": [
    "import pandas as pd\n",
    "import numpy as np\n",
    "\n",
    "from math import floor, ceil\n",
    "\n",
    "pd.options.mode.chained_assignment = None  # default='warn'"
   ]
  },
  {
   "cell_type": "code",
   "execution_count": 2,
   "metadata": {},
   "outputs": [],
   "source": [
    "INPUT_FILE = '../inputs/mockup-mitigating-decimals-jtf.csv'\n",
    "N_TOTAL_SEATS = 500\n",
    "\n",
    "# INPUT_FILE = '../inputs/2019-general-election.csv'\n",
    "# N_TOTAL_SEATS = 500"
   ]
  },
  {
   "cell_type": "code",
   "execution_count": 3,
   "metadata": {},
   "outputs": [
    {
     "output_type": "execute_result",
     "data": {
      "text/plain": [
       "       n_votes  n_constituency_seats  is_party\n",
       "party                                         \n",
       "A        20050                     0         1\n",
       "B        10050                     0         1\n",
       "C         9970                     0         1\n",
       "D         9930                     0         1"
      ],
      "text/html": "<div>\n<style scoped>\n    .dataframe tbody tr th:only-of-type {\n        vertical-align: middle;\n    }\n\n    .dataframe tbody tr th {\n        vertical-align: top;\n    }\n\n    .dataframe thead th {\n        text-align: right;\n    }\n</style>\n<table border=\"1\" class=\"dataframe\">\n  <thead>\n    <tr style=\"text-align: right;\">\n      <th></th>\n      <th>n_votes</th>\n      <th>n_constituency_seats</th>\n      <th>is_party</th>\n    </tr>\n    <tr>\n      <th>party</th>\n      <th></th>\n      <th></th>\n      <th></th>\n    </tr>\n  </thead>\n  <tbody>\n    <tr>\n      <th>A</th>\n      <td>20050</td>\n      <td>0</td>\n      <td>1</td>\n    </tr>\n    <tr>\n      <th>B</th>\n      <td>10050</td>\n      <td>0</td>\n      <td>1</td>\n    </tr>\n    <tr>\n      <th>C</th>\n      <td>9970</td>\n      <td>0</td>\n      <td>1</td>\n    </tr>\n    <tr>\n      <th>D</th>\n      <td>9930</td>\n      <td>0</td>\n      <td>1</td>\n    </tr>\n  </tbody>\n</table>\n</div>"
     },
     "metadata": {},
     "execution_count": 3
    }
   ],
   "source": [
    "df = pd.read_csv(INPUT_FILE, index_col=\"party\")\n",
    "df"
   ]
  },
  {
   "cell_type": "code",
   "execution_count": 4,
   "metadata": {},
   "outputs": [
    {
     "output_type": "execute_result",
     "data": {
      "text/plain": [
       "(0, 500)"
      ]
     },
     "metadata": {},
     "execution_count": 4
    }
   ],
   "source": [
    "N_CONSTITUENCY_SEATS = df[\"n_constituency_seats\"].sum()\n",
    "N_PROPORTION_SEATS = N_TOTAL_SEATS - N_CONSTITUENCY_SEATS\n",
    "\n",
    "N_CONSTITUENCY_SEATS, N_PROPORTION_SEATS"
   ]
  },
  {
   "cell_type": "code",
   "execution_count": 5,
   "metadata": {},
   "outputs": [],
   "source": [
    "# มาตรา ๑๒๘ เมื่อคณะกรรมการได้รับรายงานผลรวมคะแนนแบบบัญชีรายชื่อจาก\n",
    "# ผู้อำนวยการการเลือกตั้งประจำจังหวัดแล้ว ให้ดำเนินการคำนวณหาจำนวนสมาชิกสภาผู้แทนราษฎร\n",
    "# ที่พรรคการเมืองจะพึงมีได้\n",
    "# และให้ดำเนินการคำนวณเพื่อหาผู้ที่ได้รับเลือกตั้งเป็นสมาชิกสภาผู้แทนราษฎร\n",
    "# แบบบัญชีรายชื่อ ดังต่อไปนี้โดยในกรณีที่มีเศษให้ใช้ทศนิยมสี่ตำแหน่ง\n",
    "\n",
    "def use_four_decimal_place(n): return round(n, 4)\n",
    "# def use_four_decimal_place(n): return n - (n % 0.0001)"
   ]
  },
  {
   "cell_type": "code",
   "execution_count": 6,
   "metadata": {},
   "outputs": [
    {
     "output_type": "execute_result",
     "data": {
      "text/plain": [
       "50000"
      ]
     },
     "metadata": {},
     "execution_count": 6
    }
   ],
   "source": [
    "# (๑) ให้รวมผลคะแนนทั้งหมดที่ทุกพรรคการเมืองได้รับจากการเลือกตั้งแบบบัญชีรายชื่อ\n",
    "# ทั้งประเทศ\n",
    "\n",
    "total_votes = df[\"n_votes\"].sum()\n",
    "total_votes"
   ]
  },
  {
   "cell_type": "code",
   "execution_count": 7,
   "metadata": {},
   "outputs": [
    {
     "output_type": "execute_result",
     "data": {
      "text/plain": [
       "100.0"
      ]
     },
     "metadata": {},
     "execution_count": 7
    }
   ],
   "source": [
    "# (๒) ให้นำคะแนนรวมจาก (๑) หารด้วยหนึ่งห้าร้อยอันเป็นจำนวนสมาชิกทั้งหมด\n",
    "# ของสภาผู้แทนราษฎร ผลลัพธ์ที่ได้ให้ถือเป็นคะแนนเฉลี่ยต่อสมาชิกสภาผู้แทนราษฎรแบบบัญชีรายชื่อ\n",
    "# พึงมีหนึ่งคน\n",
    "score_required_per_rep = total_votes / N_TOTAL_SEATS\n",
    "score_required_per_rep"
   ]
  },
  {
   "source": [
    "# Filter non-party records\n",
    "\n",
    "df = df[df[\"is_party\"] == 1]\n",
    "df"
   ],
   "cell_type": "code",
   "metadata": {},
   "execution_count": 8,
   "outputs": [
    {
     "output_type": "execute_result",
     "data": {
      "text/plain": [
       "       n_votes  n_constituency_seats  is_party\n",
       "party                                         \n",
       "A        20050                     0         1\n",
       "B        10050                     0         1\n",
       "C         9970                     0         1\n",
       "D         9930                     0         1"
      ],
      "text/html": "<div>\n<style scoped>\n    .dataframe tbody tr th:only-of-type {\n        vertical-align: middle;\n    }\n\n    .dataframe tbody tr th {\n        vertical-align: top;\n    }\n\n    .dataframe thead th {\n        text-align: right;\n    }\n</style>\n<table border=\"1\" class=\"dataframe\">\n  <thead>\n    <tr style=\"text-align: right;\">\n      <th></th>\n      <th>n_votes</th>\n      <th>n_constituency_seats</th>\n      <th>is_party</th>\n    </tr>\n    <tr>\n      <th>party</th>\n      <th></th>\n      <th></th>\n      <th></th>\n    </tr>\n  </thead>\n  <tbody>\n    <tr>\n      <th>A</th>\n      <td>20050</td>\n      <td>0</td>\n      <td>1</td>\n    </tr>\n    <tr>\n      <th>B</th>\n      <td>10050</td>\n      <td>0</td>\n      <td>1</td>\n    </tr>\n    <tr>\n      <th>C</th>\n      <td>9970</td>\n      <td>0</td>\n      <td>1</td>\n    </tr>\n    <tr>\n      <th>D</th>\n      <td>9930</td>\n      <td>0</td>\n      <td>1</td>\n    </tr>\n  </tbody>\n</table>\n</div>"
     },
     "metadata": {},
     "execution_count": 8
    }
   ]
  },
  {
   "cell_type": "code",
   "execution_count": 9,
   "metadata": {},
   "outputs": [
    {
     "output_type": "execute_result",
     "data": {
      "text/plain": [
       "       n_votes  n_constituency_seats  is_party  step_3\n",
       "party                                                 \n",
       "A        20050                     0         1   200.5\n",
       "B        10050                     0         1   100.5\n",
       "C         9970                     0         1    99.7\n",
       "D         9930                     0         1    99.3"
      ],
      "text/html": "<div>\n<style scoped>\n    .dataframe tbody tr th:only-of-type {\n        vertical-align: middle;\n    }\n\n    .dataframe tbody tr th {\n        vertical-align: top;\n    }\n\n    .dataframe thead th {\n        text-align: right;\n    }\n</style>\n<table border=\"1\" class=\"dataframe\">\n  <thead>\n    <tr style=\"text-align: right;\">\n      <th></th>\n      <th>n_votes</th>\n      <th>n_constituency_seats</th>\n      <th>is_party</th>\n      <th>step_3</th>\n    </tr>\n    <tr>\n      <th>party</th>\n      <th></th>\n      <th></th>\n      <th></th>\n      <th></th>\n    </tr>\n  </thead>\n  <tbody>\n    <tr>\n      <th>A</th>\n      <td>20050</td>\n      <td>0</td>\n      <td>1</td>\n      <td>200.5</td>\n    </tr>\n    <tr>\n      <th>B</th>\n      <td>10050</td>\n      <td>0</td>\n      <td>1</td>\n      <td>100.5</td>\n    </tr>\n    <tr>\n      <th>C</th>\n      <td>9970</td>\n      <td>0</td>\n      <td>1</td>\n      <td>99.7</td>\n    </tr>\n    <tr>\n      <th>D</th>\n      <td>9930</td>\n      <td>0</td>\n      <td>1</td>\n      <td>99.3</td>\n    </tr>\n  </tbody>\n</table>\n</div>"
     },
     "metadata": {},
     "execution_count": 9
    }
   ],
   "source": [
    "# (๓) นำผลลัพธ์ตาม (๒) ไปหารจำนวน คะแนนรวมทั้งประเทศที่ได้รับจากการเลือกตั้ง\n",
    "# แบบบัญชีรายชื่อของแต่ละพรรค ผลลัพธ์ที่ได้ให้ถือเป็นจำนวนสมาชิกสภาผู้แทนราษฎร\n",
    "# ที่พรรคการเมืองนั้นจะพึงมีได้เบื้องต้น และเมื่อได้คำนวณตาม (๖) (๗) หรือ (๘) ถ้ามีแล้ว \n",
    "# จึงให้ถือว่าเป็นจำนวนสมาชิกสภาผู้แทนราษฎรที่พรรคการเมืองนั้นจะพึงมีได้\n",
    "\n",
    "# `step_3_base` will be \"จำนวนสมาชิกสภาผู้แทนราษฎรที่พรรคการเมืองนั้นจะพึงมีได้เบื้องต้น\"\n",
    "\n",
    "df['step_3'] = use_four_decimal_place(df[\"n_votes\"] / score_required_per_rep)\n",
    "df"
   ]
  },
  {
   "cell_type": "code",
   "execution_count": 10,
   "metadata": {},
   "outputs": [
    {
     "output_type": "execute_result",
     "data": {
      "text/plain": [
       "       n_votes  n_constituency_seats  is_party  step_3  step_4\n",
       "party                                                         \n",
       "A        20050                     0         1   200.5   200.5\n",
       "B        10050                     0         1   100.5   100.5\n",
       "C         9970                     0         1    99.7    99.7\n",
       "D         9930                     0         1    99.3    99.3"
      ],
      "text/html": "<div>\n<style scoped>\n    .dataframe tbody tr th:only-of-type {\n        vertical-align: middle;\n    }\n\n    .dataframe tbody tr th {\n        vertical-align: top;\n    }\n\n    .dataframe thead th {\n        text-align: right;\n    }\n</style>\n<table border=\"1\" class=\"dataframe\">\n  <thead>\n    <tr style=\"text-align: right;\">\n      <th></th>\n      <th>n_votes</th>\n      <th>n_constituency_seats</th>\n      <th>is_party</th>\n      <th>step_3</th>\n      <th>step_4</th>\n    </tr>\n    <tr>\n      <th>party</th>\n      <th></th>\n      <th></th>\n      <th></th>\n      <th></th>\n      <th></th>\n    </tr>\n  </thead>\n  <tbody>\n    <tr>\n      <th>A</th>\n      <td>20050</td>\n      <td>0</td>\n      <td>1</td>\n      <td>200.5</td>\n      <td>200.5</td>\n    </tr>\n    <tr>\n      <th>B</th>\n      <td>10050</td>\n      <td>0</td>\n      <td>1</td>\n      <td>100.5</td>\n      <td>100.5</td>\n    </tr>\n    <tr>\n      <th>C</th>\n      <td>9970</td>\n      <td>0</td>\n      <td>1</td>\n      <td>99.7</td>\n      <td>99.7</td>\n    </tr>\n    <tr>\n      <th>D</th>\n      <td>9930</td>\n      <td>0</td>\n      <td>1</td>\n      <td>99.3</td>\n      <td>99.3</td>\n    </tr>\n  </tbody>\n</table>\n</div>"
     },
     "metadata": {},
     "execution_count": 10
    }
   ],
   "source": [
    "# (๔) นำจำนวนสมาชิกสภาผู้แทนราษฎรที่พรรคการเมือง\n",
    "# จะพึงมีได้ตาม (๓) ลบด้วยจำนวนสมาชิกสภาผู้แทนราษฎรแบบแบ่งเขตเลือกตั้ง\n",
    "# ทั้งหมดที่พรรคการเมืองนั้นได้รับเลือกตั้งในทุกเขตเลือกตั้ง\n",
    "# ผลลัพธ์ที่ได้คือจำนวนสมาชิกสภาผู้แทนราษฎรแบบบัญชีรายชื่อพรรคการเมืองนั้นจะได้รับเบื้องต้น\n",
    "\n",
    "df[\"step_4\"] = df[\"step_3\"] - df[\"n_constituency_seats\"]\n",
    "df"
   ]
  },
  {
   "cell_type": "code",
   "execution_count": 11,
   "metadata": {},
   "outputs": [
    {
     "output_type": "execute_result",
     "data": {
      "text/plain": [
       "       n_votes  n_constituency_seats  is_party  step_3  step_4  \\\n",
       "party                                                            \n",
       "A        20050                     0         1   200.5   200.5   \n",
       "B        10050                     0         1   100.5   100.5   \n",
       "C         9970                     0         1    99.7    99.7   \n",
       "D         9930                     0         1    99.3    99.3   \n",
       "\n",
       "       step_6_eligible_for_proportion  \n",
       "party                                  \n",
       "A                                True  \n",
       "B                                True  \n",
       "C                                True  \n",
       "D                                True  "
      ],
      "text/html": "<div>\n<style scoped>\n    .dataframe tbody tr th:only-of-type {\n        vertical-align: middle;\n    }\n\n    .dataframe tbody tr th {\n        vertical-align: top;\n    }\n\n    .dataframe thead th {\n        text-align: right;\n    }\n</style>\n<table border=\"1\" class=\"dataframe\">\n  <thead>\n    <tr style=\"text-align: right;\">\n      <th></th>\n      <th>n_votes</th>\n      <th>n_constituency_seats</th>\n      <th>is_party</th>\n      <th>step_3</th>\n      <th>step_4</th>\n      <th>step_6_eligible_for_proportion</th>\n    </tr>\n    <tr>\n      <th>party</th>\n      <th></th>\n      <th></th>\n      <th></th>\n      <th></th>\n      <th></th>\n      <th></th>\n    </tr>\n  </thead>\n  <tbody>\n    <tr>\n      <th>A</th>\n      <td>20050</td>\n      <td>0</td>\n      <td>1</td>\n      <td>200.5</td>\n      <td>200.5</td>\n      <td>True</td>\n    </tr>\n    <tr>\n      <th>B</th>\n      <td>10050</td>\n      <td>0</td>\n      <td>1</td>\n      <td>100.5</td>\n      <td>100.5</td>\n      <td>True</td>\n    </tr>\n    <tr>\n      <th>C</th>\n      <td>9970</td>\n      <td>0</td>\n      <td>1</td>\n      <td>99.7</td>\n      <td>99.7</td>\n      <td>True</td>\n    </tr>\n    <tr>\n      <th>D</th>\n      <td>9930</td>\n      <td>0</td>\n      <td>1</td>\n      <td>99.3</td>\n      <td>99.3</td>\n      <td>True</td>\n    </tr>\n  </tbody>\n</table>\n</div>"
     },
     "metadata": {},
     "execution_count": 11
    }
   ],
   "source": [
    "# (๖) ถ้าพรรคการเมืองใดมีผู้ได้รับเลือกตั้งเป็นสมาชิกสภาผู้แทนราษฎรแบบแบ่งเขตเลือกตั้ง\n",
    "# เท่ากับหรือสูงกว่าจำนวนสมาชิกสภาผู้แทนราษฎรที่พรรคการเมืองนั้นจะพึงมีได้ตาม (๓)\n",
    "# ให้พรรคการเมืองนั้นมีสมาชิกสภาผู้แทนราษฎรตามจำนวนที่ได้รับการเลือกตั้งแบบแบ่งเขตเลือกตั้ง \n",
    "# และไม่มีสิทธิได้รับการจัดสรรสมาชิกสภาผู้แทนราษฎรแบบบัญชีรายชื่อ และให้นำจำนวนสมาชิก\n",
    "# สภาผู้แทนราษฎรแบบบัญชีรายชื่อทั้งหมดไปจัดสรรให้แก่พรรคการเมืองที่มีจำนวนสมาชิก\n",
    "# สภาผู้แทนราษฎรแบบแบ่งเขตเลือกตั้งต่ำกว่าจำนวนสมาชิกสภาผู้แทนราษฎรที่พรรคการเมืองนั้นจะพึงมีได้\n",
    "# ตาม (๓) ตามอัตราส่วน แต่ต้องไม่มีผลให้พรรคการเมืองใดดังกล่าวมีสมาชิกสภาผู้แทนราษฎร\n",
    "# เกินจำนวนที่จะพึงมีได้ตาม (๓)\n",
    "\n",
    "df[\"step_6_eligible_for_proportion\"] = df[\"step_4\"] > 0\n",
    "df"
   ]
  },
  {
   "cell_type": "code",
   "execution_count": 12,
   "metadata": {},
   "outputs": [
    {
     "output_type": "execute_result",
     "data": {
      "text/plain": [
       "       n_votes  n_constituency_seats  is_party  step_3  step_4  \\\n",
       "party                                                            \n",
       "A        20050                     0         1   200.5   200.5   \n",
       "B        10050                     0         1   100.5   100.5   \n",
       "C         9970                     0         1    99.7    99.7   \n",
       "D         9930                     0         1    99.3    99.3   \n",
       "\n",
       "       step_6_eligible_for_proportion  step_8_scaled_proportion  \n",
       "party                                                            \n",
       "A                                True                     200.5  \n",
       "B                                True                     100.5  \n",
       "C                                True                      99.7  \n",
       "D                                True                      99.3  "
      ],
      "text/html": "<div>\n<style scoped>\n    .dataframe tbody tr th:only-of-type {\n        vertical-align: middle;\n    }\n\n    .dataframe tbody tr th {\n        vertical-align: top;\n    }\n\n    .dataframe thead th {\n        text-align: right;\n    }\n</style>\n<table border=\"1\" class=\"dataframe\">\n  <thead>\n    <tr style=\"text-align: right;\">\n      <th></th>\n      <th>n_votes</th>\n      <th>n_constituency_seats</th>\n      <th>is_party</th>\n      <th>step_3</th>\n      <th>step_4</th>\n      <th>step_6_eligible_for_proportion</th>\n      <th>step_8_scaled_proportion</th>\n    </tr>\n    <tr>\n      <th>party</th>\n      <th></th>\n      <th></th>\n      <th></th>\n      <th></th>\n      <th></th>\n      <th></th>\n      <th></th>\n    </tr>\n  </thead>\n  <tbody>\n    <tr>\n      <th>A</th>\n      <td>20050</td>\n      <td>0</td>\n      <td>1</td>\n      <td>200.5</td>\n      <td>200.5</td>\n      <td>True</td>\n      <td>200.5</td>\n    </tr>\n    <tr>\n      <th>B</th>\n      <td>10050</td>\n      <td>0</td>\n      <td>1</td>\n      <td>100.5</td>\n      <td>100.5</td>\n      <td>True</td>\n      <td>100.5</td>\n    </tr>\n    <tr>\n      <th>C</th>\n      <td>9970</td>\n      <td>0</td>\n      <td>1</td>\n      <td>99.7</td>\n      <td>99.7</td>\n      <td>True</td>\n      <td>99.7</td>\n    </tr>\n    <tr>\n      <th>D</th>\n      <td>9930</td>\n      <td>0</td>\n      <td>1</td>\n      <td>99.3</td>\n      <td>99.3</td>\n      <td>True</td>\n      <td>99.3</td>\n    </tr>\n  </tbody>\n</table>\n</div>"
     },
     "metadata": {},
     "execution_count": 12
    }
   ],
   "source": [
    "# (๘) ในกรณีที่คำนวณตาม (๖) แล้ว ปรากฏว่าพรรคการเมืองทุกพรรคได้รับจำนวน\n",
    "# สมาชิกสภาผู้แทนราษฎรแบบบัญชีรายชื่อรวมกันแล้วเกินหนึ่งร้อยคน ให้ดำเนินการคำนวณปรับจำนวน\n",
    "# สมาชิกสภาผู้แทนราษฎรแบบบัญชีรายชื่อใหม่ โดยคำนวณตามอัตราส่วนที่ทุกพรรคจะได้รับการจัดสรร\n",
    "# จำนวนสมาชิกสภาผู้แทนราษฎรแบบบัญชีรายชื่อ ซึ่งเมื่อรวมแล้วไม่เกินหนึ่งร้อยคน โดยให้นำจำนวน\n",
    "# สมาชิกสภาผู้แทนราษฎรแบบบัญชีรายชื่อที่แต่ละพรรคจะได้รับคูณด้วยหนึ่งร้อย หารด้วยผลบวกของ\n",
    "# หนึ่งร้อยกับจำนวนสมาชิกสภาผู้แทนราษฎรแบบบัญชีรายชื่อที่เกินจำนวนหนึ่งร้อย และให้นำ (๕) มาใช้\n",
    "# ในการคำนวณด้วยโดยอนุโลม\n",
    "\n",
    "df_elig_proportion = df[df[\"step_6_eligible_for_proportion\"]]\n",
    "df_elig_proportion[\"step_8_scaled_proportion\"] = df_elig_proportion[\"step_4\"] / df_elig_proportion[\"step_4\"].sum() * N_PROPORTION_SEATS\n",
    "df_elig_proportion"
   ]
  },
  {
   "cell_type": "code",
   "execution_count": 13,
   "metadata": {},
   "outputs": [
    {
     "output_type": "execute_result",
     "data": {
      "text/plain": [
       "       n_votes  n_constituency_seats  is_party  step_3  step_4  \\\n",
       "party                                                            \n",
       "A        20050                     0         1   200.5   200.5   \n",
       "B        10050                     0         1   100.5   100.5   \n",
       "C         9970                     0         1    99.7    99.7   \n",
       "D         9930                     0         1    99.3    99.3   \n",
       "\n",
       "       step_6_eligible_for_proportion  step_8_scaled_proportion  \\\n",
       "party                                                             \n",
       "A                                True                     200.5   \n",
       "B                                True                     100.5   \n",
       "C                                True                      99.7   \n",
       "D                                True                      99.3   \n",
       "\n",
       "       step_5_full_seats  step_5_remainder  \n",
       "party                                       \n",
       "A                    200               0.5  \n",
       "B                    100               0.5  \n",
       "C                     99               0.7  \n",
       "D                     99               0.3  "
      ],
      "text/html": "<div>\n<style scoped>\n    .dataframe tbody tr th:only-of-type {\n        vertical-align: middle;\n    }\n\n    .dataframe tbody tr th {\n        vertical-align: top;\n    }\n\n    .dataframe thead th {\n        text-align: right;\n    }\n</style>\n<table border=\"1\" class=\"dataframe\">\n  <thead>\n    <tr style=\"text-align: right;\">\n      <th></th>\n      <th>n_votes</th>\n      <th>n_constituency_seats</th>\n      <th>is_party</th>\n      <th>step_3</th>\n      <th>step_4</th>\n      <th>step_6_eligible_for_proportion</th>\n      <th>step_8_scaled_proportion</th>\n      <th>step_5_full_seats</th>\n      <th>step_5_remainder</th>\n    </tr>\n    <tr>\n      <th>party</th>\n      <th></th>\n      <th></th>\n      <th></th>\n      <th></th>\n      <th></th>\n      <th></th>\n      <th></th>\n      <th></th>\n      <th></th>\n    </tr>\n  </thead>\n  <tbody>\n    <tr>\n      <th>A</th>\n      <td>20050</td>\n      <td>0</td>\n      <td>1</td>\n      <td>200.5</td>\n      <td>200.5</td>\n      <td>True</td>\n      <td>200.5</td>\n      <td>200</td>\n      <td>0.5</td>\n    </tr>\n    <tr>\n      <th>B</th>\n      <td>10050</td>\n      <td>0</td>\n      <td>1</td>\n      <td>100.5</td>\n      <td>100.5</td>\n      <td>True</td>\n      <td>100.5</td>\n      <td>100</td>\n      <td>0.5</td>\n    </tr>\n    <tr>\n      <th>C</th>\n      <td>9970</td>\n      <td>0</td>\n      <td>1</td>\n      <td>99.7</td>\n      <td>99.7</td>\n      <td>True</td>\n      <td>99.7</td>\n      <td>99</td>\n      <td>0.7</td>\n    </tr>\n    <tr>\n      <th>D</th>\n      <td>9930</td>\n      <td>0</td>\n      <td>1</td>\n      <td>99.3</td>\n      <td>99.3</td>\n      <td>True</td>\n      <td>99.3</td>\n      <td>99</td>\n      <td>0.3</td>\n    </tr>\n  </tbody>\n</table>\n</div>"
     },
     "metadata": {},
     "execution_count": 13
    }
   ],
   "source": [
    "# (๕) ภายใต้บังคับ (๖) ให้จัดสรรจำนวนสมาชิกสภาผู้แทนราษฎร\n",
    "# แบบบัญชีรายชื่อที่พรรคการเมืองจะได้รับให้ครบหนึ่งร้อยคน โดยจัดสรรให้พรรคการเมืองตามผลลัพธ์\n",
    "# ตาม (๔) เป็นจำนวนเต็มก่อน...\n",
    "\n",
    "df_elig_proportion[\"step_5_full_seats\"] = df_elig_proportion[\"step_8_scaled_proportion\"].apply(floor)\n",
    "df_elig_proportion[\"step_5_remainder\"] = df_elig_proportion[\"step_8_scaled_proportion\"].apply(lambda n: n % 1)\n",
    "df_elig_proportion"
   ]
  },
  {
   "cell_type": "code",
   "execution_count": 14,
   "metadata": {},
   "outputs": [
    {
     "output_type": "execute_result",
     "data": {
      "text/plain": [
       "2"
      ]
     },
     "metadata": {},
     "execution_count": 14
    }
   ],
   "source": [
    "# (cont from 5) ...หากยังไม่ครบหนึ่งร้อยคน \n",
    "# ให้พรรคการเมืองที่มีเศษจากการคำนวณมากที่สุดได้รับการจัดสรรจำนวน\n",
    "# สมาชิกสภาผู้แทนราษฎรแบบบัญชีรายชื่อเพิ่มอีกหนึ่งคนตามลำดับจนครบจำนวนหนึ่งร้อยคน ในกรณีที่\n",
    "# มีเศษเท่ากันให้ดำเนินการตาม (๗)\n",
    "\n",
    "assigned_proportion_seats = df_elig_proportion[\"step_5_full_seats\"].sum()\n",
    "n_senators_to_assign_by_remainder = N_PROPORTION_SEATS - assigned_proportion_seats\n",
    "\n",
    "n_senators_to_assign_by_remainder"
   ]
  },
  {
   "cell_type": "code",
   "execution_count": 15,
   "metadata": {},
   "outputs": [
    {
     "output_type": "execute_result",
     "data": {
      "text/plain": [
       "       n_votes  n_constituency_seats  is_party  step_3  step_4  \\\n",
       "party                                                            \n",
       "A        20050                     0         1   200.5   200.5   \n",
       "B        10050                     0         1   100.5   100.5   \n",
       "C         9970                     0         1    99.7    99.7   \n",
       "D         9930                     0         1    99.3    99.3   \n",
       "\n",
       "       step_6_eligible_for_proportion  step_8_scaled_proportion  \\\n",
       "party                                                             \n",
       "A                                True                     200.5   \n",
       "B                                True                     100.5   \n",
       "C                                True                      99.7   \n",
       "D                                True                      99.3   \n",
       "\n",
       "       step_5_full_seats  step_5_remainder  step_6_tie_breaker  \n",
       "party                                                           \n",
       "A                    200               0.5            0.009975  \n",
       "B                    100               0.5            0.009950  \n",
       "C                     99               0.7            0.009930  \n",
       "D                     99               0.3            0.009970  "
      ],
      "text/html": "<div>\n<style scoped>\n    .dataframe tbody tr th:only-of-type {\n        vertical-align: middle;\n    }\n\n    .dataframe tbody tr th {\n        vertical-align: top;\n    }\n\n    .dataframe thead th {\n        text-align: right;\n    }\n</style>\n<table border=\"1\" class=\"dataframe\">\n  <thead>\n    <tr style=\"text-align: right;\">\n      <th></th>\n      <th>n_votes</th>\n      <th>n_constituency_seats</th>\n      <th>is_party</th>\n      <th>step_3</th>\n      <th>step_4</th>\n      <th>step_6_eligible_for_proportion</th>\n      <th>step_8_scaled_proportion</th>\n      <th>step_5_full_seats</th>\n      <th>step_5_remainder</th>\n      <th>step_6_tie_breaker</th>\n    </tr>\n    <tr>\n      <th>party</th>\n      <th></th>\n      <th></th>\n      <th></th>\n      <th></th>\n      <th></th>\n      <th></th>\n      <th></th>\n      <th></th>\n      <th></th>\n      <th></th>\n    </tr>\n  </thead>\n  <tbody>\n    <tr>\n      <th>A</th>\n      <td>20050</td>\n      <td>0</td>\n      <td>1</td>\n      <td>200.5</td>\n      <td>200.5</td>\n      <td>True</td>\n      <td>200.5</td>\n      <td>200</td>\n      <td>0.5</td>\n      <td>0.009975</td>\n    </tr>\n    <tr>\n      <th>B</th>\n      <td>10050</td>\n      <td>0</td>\n      <td>1</td>\n      <td>100.5</td>\n      <td>100.5</td>\n      <td>True</td>\n      <td>100.5</td>\n      <td>100</td>\n      <td>0.5</td>\n      <td>0.009950</td>\n    </tr>\n    <tr>\n      <th>C</th>\n      <td>9970</td>\n      <td>0</td>\n      <td>1</td>\n      <td>99.7</td>\n      <td>99.7</td>\n      <td>True</td>\n      <td>99.7</td>\n      <td>99</td>\n      <td>0.7</td>\n      <td>0.009930</td>\n    </tr>\n    <tr>\n      <th>D</th>\n      <td>9930</td>\n      <td>0</td>\n      <td>1</td>\n      <td>99.3</td>\n      <td>99.3</td>\n      <td>True</td>\n      <td>99.3</td>\n      <td>99</td>\n      <td>0.3</td>\n      <td>0.009970</td>\n    </tr>\n  </tbody>\n</table>\n</div>"
     },
     "metadata": {},
     "execution_count": 15
    }
   ],
   "source": [
    "# (๗) ในการจัดสรรตาม (๖) แล้ว ปรากฏว่ายังจัดสรรจำนวนสมาชิกสภาผู้แทนราษฎร\n",
    "# แบบบัญชีรายชื่อไม่ครบหนึ่งร้อยคน ให้พรรคการเมืองที่มีเศษจากการคำนวณมากที่สุดได้รับการจัดสรร\n",
    "# จำนวนสมาชิกสภาผู้แทนราษฎรแบบบัญชีรายชื่อเพิ่มอีกหนึ่งคนตามลำดับจนครบจำนวนหนึ่งร้อยคน \n",
    "# กรณีที่เศษที่เหลือของแต่ละพรรคการเมืองเท่ากัน จนทำให้ไม่สามารถจัดสรรสมาชิกสภาผู้แทนราษฎร\n",
    "# แบบบัญชีรายชื่อได้ครบจำนวนหนึ่งร้อยคน ให้นำค่าเฉลี่ยคะแนนของแต่ละพรรคการเมืองต่อจำนวนสมาชิก\n",
    "# สภาผู้แทนราษฎรที่พึงมีหนึ่งคนมาพิจารณา โดยหากพรรคการเมืองใดมีค่าเฉลี่ยคะแนนของพรรคการเมือง\n",
    "# ต่อจำนวนสมาชิกสภาผู้แทนราษฎรที่พึงมีหนึ่งคนมากกว่าพรรคการเมืองอื่น ให้พรรคการเมืองนั้นมีสิทธิ\n",
    "# ได้รับการจัดสรรสมาชิกสภาผู้แทนราษฎรแบบบัญชีรายชื่อเพิ่มอีกหนึ่งคน และหากยังมีจำนวนค่าเฉลี่ย\n",
    "# ดังกล่าวเท่ากันอีกให้ใช้วิธีจับสลาก\n",
    "\n",
    "df_elig_proportion[\"step_6_tie_breaker\"] = df_elig_proportion[\"step_5_full_seats\"] / df_elig_proportion[\"n_votes\"]\n",
    "df_elig_proportion"
   ]
  },
  {
   "cell_type": "code",
   "execution_count": 16,
   "metadata": {},
   "outputs": [
    {
     "output_type": "execute_result",
     "data": {
      "text/plain": [
       "Index(['C', 'A'], dtype='object', name='party')"
      ]
     },
     "metadata": {},
     "execution_count": 16
    }
   ],
   "source": [
    "parties_to_get_reps_from_remainder = df_elig_proportion.sort_values(\"step_5_remainder\", ascending=False).head(n_senators_to_assign_by_remainder).index\n",
    "\n",
    "parties_to_get_reps_from_remainder"
   ]
  },
  {
   "cell_type": "code",
   "execution_count": 17,
   "metadata": {},
   "outputs": [
    {
     "output_type": "execute_result",
     "data": {
      "text/plain": [
       "       n_votes  n_constituency_seats  is_party  step_3  step_4  \\\n",
       "party                                                            \n",
       "A        20050                     0         1   200.5   200.5   \n",
       "B        10050                     0         1   100.5   100.5   \n",
       "C         9970                     0         1    99.7    99.7   \n",
       "D         9930                     0         1    99.3    99.3   \n",
       "\n",
       "       step_6_eligible_for_proportion  step_8_scaled_proportion  \\\n",
       "party                                                             \n",
       "A                                True                     200.5   \n",
       "B                                True                     100.5   \n",
       "C                                True                      99.7   \n",
       "D                                True                      99.3   \n",
       "\n",
       "       step_5_full_seats  step_5_remainder  step_6_tie_breaker  \\\n",
       "party                                                            \n",
       "A                    200               0.5            0.009975   \n",
       "B                    100               0.5            0.009950   \n",
       "C                     99               0.7            0.009930   \n",
       "D                     99               0.3            0.009970   \n",
       "\n",
       "       step_5_remainder_seats  \n",
       "party                          \n",
       "A                           1  \n",
       "B                           0  \n",
       "C                           1  \n",
       "D                           0  "
      ],
      "text/html": "<div>\n<style scoped>\n    .dataframe tbody tr th:only-of-type {\n        vertical-align: middle;\n    }\n\n    .dataframe tbody tr th {\n        vertical-align: top;\n    }\n\n    .dataframe thead th {\n        text-align: right;\n    }\n</style>\n<table border=\"1\" class=\"dataframe\">\n  <thead>\n    <tr style=\"text-align: right;\">\n      <th></th>\n      <th>n_votes</th>\n      <th>n_constituency_seats</th>\n      <th>is_party</th>\n      <th>step_3</th>\n      <th>step_4</th>\n      <th>step_6_eligible_for_proportion</th>\n      <th>step_8_scaled_proportion</th>\n      <th>step_5_full_seats</th>\n      <th>step_5_remainder</th>\n      <th>step_6_tie_breaker</th>\n      <th>step_5_remainder_seats</th>\n    </tr>\n    <tr>\n      <th>party</th>\n      <th></th>\n      <th></th>\n      <th></th>\n      <th></th>\n      <th></th>\n      <th></th>\n      <th></th>\n      <th></th>\n      <th></th>\n      <th></th>\n      <th></th>\n    </tr>\n  </thead>\n  <tbody>\n    <tr>\n      <th>A</th>\n      <td>20050</td>\n      <td>0</td>\n      <td>1</td>\n      <td>200.5</td>\n      <td>200.5</td>\n      <td>True</td>\n      <td>200.5</td>\n      <td>200</td>\n      <td>0.5</td>\n      <td>0.009975</td>\n      <td>1</td>\n    </tr>\n    <tr>\n      <th>B</th>\n      <td>10050</td>\n      <td>0</td>\n      <td>1</td>\n      <td>100.5</td>\n      <td>100.5</td>\n      <td>True</td>\n      <td>100.5</td>\n      <td>100</td>\n      <td>0.5</td>\n      <td>0.009950</td>\n      <td>0</td>\n    </tr>\n    <tr>\n      <th>C</th>\n      <td>9970</td>\n      <td>0</td>\n      <td>1</td>\n      <td>99.7</td>\n      <td>99.7</td>\n      <td>True</td>\n      <td>99.7</td>\n      <td>99</td>\n      <td>0.7</td>\n      <td>0.009930</td>\n      <td>1</td>\n    </tr>\n    <tr>\n      <th>D</th>\n      <td>9930</td>\n      <td>0</td>\n      <td>1</td>\n      <td>99.3</td>\n      <td>99.3</td>\n      <td>True</td>\n      <td>99.3</td>\n      <td>99</td>\n      <td>0.3</td>\n      <td>0.009970</td>\n      <td>0</td>\n    </tr>\n  </tbody>\n</table>\n</div>"
     },
     "metadata": {},
     "execution_count": 17
    }
   ],
   "source": [
    "df_elig_proportion[\"step_5_remainder_seats\"] = 0\n",
    "df_elig_proportion.loc[df_elig_proportion.index.isin(parties_to_get_reps_from_remainder), \"step_5_remainder_seats\"] = 1\n",
    "df_elig_proportion"
   ]
  },
  {
   "cell_type": "code",
   "execution_count": 18,
   "metadata": {},
   "outputs": [
    {
     "output_type": "execute_result",
     "data": {
      "text/plain": [
       "       n_votes  n_constituency_seats  is_party  step_3  step_4  \\\n",
       "party                                                            \n",
       "A        20050                     0         1   200.5   200.5   \n",
       "B        10050                     0         1   100.5   100.5   \n",
       "C         9970                     0         1    99.7    99.7   \n",
       "D         9930                     0         1    99.3    99.3   \n",
       "\n",
       "       step_6_eligible_for_proportion  step_8_scaled_proportion  \\\n",
       "party                                                             \n",
       "A                                True                     200.5   \n",
       "B                                True                     100.5   \n",
       "C                                True                      99.7   \n",
       "D                                True                      99.3   \n",
       "\n",
       "       step_5_full_seats  step_5_remainder  step_6_tie_breaker  \\\n",
       "party                                                            \n",
       "A                    200               0.5            0.009975   \n",
       "B                    100               0.5            0.009950   \n",
       "C                     99               0.7            0.009930   \n",
       "D                     99               0.3            0.009970   \n",
       "\n",
       "       step_5_remainder_seats  step_5_proportional_seats  \n",
       "party                                                     \n",
       "A                           1                        201  \n",
       "B                           0                        100  \n",
       "C                           1                        100  \n",
       "D                           0                         99  "
      ],
      "text/html": "<div>\n<style scoped>\n    .dataframe tbody tr th:only-of-type {\n        vertical-align: middle;\n    }\n\n    .dataframe tbody tr th {\n        vertical-align: top;\n    }\n\n    .dataframe thead th {\n        text-align: right;\n    }\n</style>\n<table border=\"1\" class=\"dataframe\">\n  <thead>\n    <tr style=\"text-align: right;\">\n      <th></th>\n      <th>n_votes</th>\n      <th>n_constituency_seats</th>\n      <th>is_party</th>\n      <th>step_3</th>\n      <th>step_4</th>\n      <th>step_6_eligible_for_proportion</th>\n      <th>step_8_scaled_proportion</th>\n      <th>step_5_full_seats</th>\n      <th>step_5_remainder</th>\n      <th>step_6_tie_breaker</th>\n      <th>step_5_remainder_seats</th>\n      <th>step_5_proportional_seats</th>\n    </tr>\n    <tr>\n      <th>party</th>\n      <th></th>\n      <th></th>\n      <th></th>\n      <th></th>\n      <th></th>\n      <th></th>\n      <th></th>\n      <th></th>\n      <th></th>\n      <th></th>\n      <th></th>\n      <th></th>\n    </tr>\n  </thead>\n  <tbody>\n    <tr>\n      <th>A</th>\n      <td>20050</td>\n      <td>0</td>\n      <td>1</td>\n      <td>200.5</td>\n      <td>200.5</td>\n      <td>True</td>\n      <td>200.5</td>\n      <td>200</td>\n      <td>0.5</td>\n      <td>0.009975</td>\n      <td>1</td>\n      <td>201</td>\n    </tr>\n    <tr>\n      <th>B</th>\n      <td>10050</td>\n      <td>0</td>\n      <td>1</td>\n      <td>100.5</td>\n      <td>100.5</td>\n      <td>True</td>\n      <td>100.5</td>\n      <td>100</td>\n      <td>0.5</td>\n      <td>0.009950</td>\n      <td>0</td>\n      <td>100</td>\n    </tr>\n    <tr>\n      <th>C</th>\n      <td>9970</td>\n      <td>0</td>\n      <td>1</td>\n      <td>99.7</td>\n      <td>99.7</td>\n      <td>True</td>\n      <td>99.7</td>\n      <td>99</td>\n      <td>0.7</td>\n      <td>0.009930</td>\n      <td>1</td>\n      <td>100</td>\n    </tr>\n    <tr>\n      <th>D</th>\n      <td>9930</td>\n      <td>0</td>\n      <td>1</td>\n      <td>99.3</td>\n      <td>99.3</td>\n      <td>True</td>\n      <td>99.3</td>\n      <td>99</td>\n      <td>0.3</td>\n      <td>0.009970</td>\n      <td>0</td>\n      <td>99</td>\n    </tr>\n  </tbody>\n</table>\n</div>"
     },
     "metadata": {},
     "execution_count": 18
    }
   ],
   "source": [
    "df_elig_proportion[\"step_5_proportional_seats\"] = df_elig_proportion[\"step_5_full_seats\"] + df_elig_proportion[\"step_5_remainder_seats\"]\n",
    "\n",
    "df_elig_proportion"
   ]
  },
  {
   "cell_type": "code",
   "execution_count": 19,
   "metadata": {},
   "outputs": [],
   "source": [
    "df = df.join(df_elig_proportion.loc[:, [\"step_5_proportional_seats\"]]).fillna(0)\n",
    "df[\"total_seats\"] = df[\"n_constituency_seats\"] + df[\"step_5_proportional_seats\"]"
   ]
  },
  {
   "cell_type": "code",
   "execution_count": 20,
   "metadata": {},
   "outputs": [
    {
     "output_type": "execute_result",
     "data": {
      "text/plain": [
       "       n_votes  n_constituency_seats  step_5_proportional_seats  total_seats\n",
       "party                                                                       \n",
       "A        20050                     0                        201          201\n",
       "B        10050                     0                        100          100\n",
       "C         9970                     0                        100          100\n",
       "D         9930                     0                         99           99"
      ],
      "text/html": "<div>\n<style scoped>\n    .dataframe tbody tr th:only-of-type {\n        vertical-align: middle;\n    }\n\n    .dataframe tbody tr th {\n        vertical-align: top;\n    }\n\n    .dataframe thead th {\n        text-align: right;\n    }\n</style>\n<table border=\"1\" class=\"dataframe\">\n  <thead>\n    <tr style=\"text-align: right;\">\n      <th></th>\n      <th>n_votes</th>\n      <th>n_constituency_seats</th>\n      <th>step_5_proportional_seats</th>\n      <th>total_seats</th>\n    </tr>\n    <tr>\n      <th>party</th>\n      <th></th>\n      <th></th>\n      <th></th>\n      <th></th>\n    </tr>\n  </thead>\n  <tbody>\n    <tr>\n      <th>A</th>\n      <td>20050</td>\n      <td>0</td>\n      <td>201</td>\n      <td>201</td>\n    </tr>\n    <tr>\n      <th>B</th>\n      <td>10050</td>\n      <td>0</td>\n      <td>100</td>\n      <td>100</td>\n    </tr>\n    <tr>\n      <th>C</th>\n      <td>9970</td>\n      <td>0</td>\n      <td>100</td>\n      <td>100</td>\n    </tr>\n    <tr>\n      <th>D</th>\n      <td>9930</td>\n      <td>0</td>\n      <td>99</td>\n      <td>99</td>\n    </tr>\n  </tbody>\n</table>\n</div>"
     },
     "metadata": {},
     "execution_count": 20
    }
   ],
   "source": [
    "df[[\"n_votes\", \"n_constituency_seats\", \"step_5_proportional_seats\", \"total_seats\"]]"
   ]
  }
 ]
}